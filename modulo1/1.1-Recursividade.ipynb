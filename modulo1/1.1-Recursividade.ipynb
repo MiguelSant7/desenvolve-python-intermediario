{
  "metadata": {
    "kernelspec": {
      "name": "python",
      "display_name": "Python (Pyodide)",
      "language": "python"
    },
    "language_info": {
      "codemirror_mode": {
        "name": "python",
        "version": 3
      },
      "file_extension": ".py",
      "mimetype": "text/x-python",
      "name": "python",
      "nbconvert_exporter": "python",
      "pygments_lexer": "ipython3",
      "version": "3.8"
    }
  },
  "nbformat_minor": 5,
  "nbformat": 4,
  "cells": [
    {
      "id": "c87bc264",
      "cell_type": "markdown",
      "source": "> Projeto Desenvolve <br>\nProgramação Intermediária com Python <br>\nProfa. Camila Laranjeira (mila@projetodesenvolve.com.br) <br>\n\n# 1.1 - Recursividade",
      "metadata": {}
    },
    {
      "id": "02e47197",
      "cell_type": "markdown",
      "source": "## Exercícios:\n\n#### **Q1**. \nFaça um procedimento recursivo que receba dois valores inteiros `a` e `b` e imprime o intervalo fechado entre eles. Se `a > b` imprima uma mensagem de erro.\n\n| Entrada |  Saída |\n| ------- | ------ |\n| 1 10    | 1 2 3 4 5 6 7 8 9 10 |\n| -5 1    | -5 -4 -3 -2 -1 |\n| 5 -5    | Valores invalidos |\n| 17 20   | 17 18 19 20 |",
      "metadata": {}
    },
    {
      "id": "e89a9966",
      "cell_type": "code",
      "source": "# 1) Faça um procedimento recursivo que receba dois valores inteiros a e b e\n# imprime o intervalo fechado entre eles. Se a > b imprima uma mensagem de\n# erro.\n\n# Entrada    Saída\n# 1 10       1 2 3 4 5 6 7 8 9 10\n# -5 1       -5 -4 -3 -2 -1\n# 5 -5       Valores invalidos\n# 17 20      17 18 19 20\n\ndef recursividade(a, b): # Função definida para realizar recursividade\n   # Caso 'a' seja maior que 'b', indica erro.\n    if a > b: \n        print(\"Error\") \n    else:\n        # Caso 'a' seja igual a 'b', imprima 'a' já que nesse estado a tem o mesmo valor que 'b'\n        if a == b: \n            print(a) # {Pode ser substituido por 'a'}\n        \n        else: \n            print(a, end=' ') # Imprime o atual valor de 'a' com espaço no final\n            recursividade(a + 1, b) # Aumenta o valor de 'a'\n\n# Entrada do usuario\na = int(input(\"Digite um valor: \"))\nb = int(input(\"Digite um valor: \"))\n\n# Chamando função\nrecursividade(a, b)",
      "metadata": {},
      "outputs": [],
      "execution_count": null
    },
    {
      "id": "b48196ed",
      "cell_type": "markdown",
      "source": "---\n\n\n#### **Q2**. \nMudando **apenas uma linha**, altere o código anterior para imprimir o intervalo invertido.\n\n| Entrada |  Saída |\n| ------- | ------ |\n| 1 10    | 10 9 8 7 6 5 4 3 2 1 |\n| -5 1    | -1 -2 -3 -4 -5 |\n| 5 -5    | Valores invalidos |\n| 17 20   | 20 19 18 17 |",
      "metadata": {}
    },
    {
      "id": "4d0c21b4",
      "cell_type": "code",
      "source": "def recursividade(a, b): # Função definida para realizar recursividade\n   # Caso 'a' seja maior que 'b', indica erro.\n    if a > b: \n        print(\"Error\") \n    else:\n        # Caso 'a' seja igual a 'b', imprima 'a' já que nesse estado a tem o mesmo valor que 'b'\n        if a == b: \n            print(b) # {Pode ser substituido por 'a'}\n        \n        else: \n            print(b, end=' ') # Imprime o atual valor de 'a' com espaço no final\n            recursividade(a, b - 1) ########## Modifiquei para que o valor de \"b\" seja subtraido.\n\n# Entrada do usuario\na = int(input(\"Digite um valor: \"))\nb = int(input(\"Digite um valor: \"))\n\n# Chamando função\nrecursividade(a, b)",
      "metadata": {},
      "outputs": [],
      "execution_count": null
    },
    {
      "id": "be727074",
      "cell_type": "markdown",
      "source": "\n\n---\n\n\n#### **Q3**. \nEscreva uma função recursiva que recebe um inteiro `n > 1` e calcula a soma dos valores entre `n` e `1`.\n\n| Entrada |  Saída |\n| ------- | ------ |\n| 5   | 15 |\n| 13  | 78 |",
      "metadata": {}
    },
    {
      "id": "c4da98b8",
      "cell_type": "code",
      "source": "# 3) Escreva uma função recursiva que recebe um inteiro n > 1 e calcula a soma\n# dos valores entre n e 1.\n\n# Entrada      Saída\n# 5            15\n# 13           78\n\n# Função para retornar a soma dos inteiros\ndef inteiro(n): # Recebe \"n\" como parametro\n   \n   # Se \"n\" for menor que 1, o resultado é 0\n    if n < 1:\n        print(\"Erro\")\n        return 0\n    # Se o if nao for atendido...\n    else:\n        # Se \"n\" igual a 1, retorne um já que nada foi somado\n        if n == 1:\n            return 1\n        # Retorna n + função(n - 1(contagem))\n        else: \n            return n + inteiro(n - 1)\n\n# Entrada\nn = int(input(\"Informe um valor: \"))\nresultado = inteiro(n)\n# Resultado\nprint(f\"O valor da soma recursiva de {n} é: {resultado}\")",
      "metadata": {},
      "outputs": [],
      "execution_count": null
    },
    {
      "id": "4142b276",
      "cell_type": "markdown",
      "source": "\n\n---\n\n\n#### **Q4**.  \n\nEscreva uma função recursiva que recebe um inteiro `n` e verifica se `n`é um valor primo, ou seja, se é divisível apenas por si mesmo e por `1`.",
      "metadata": {}
    },
    {
      "id": "4c96eb2d",
      "cell_type": "code",
      "source": "# 4) Escreva uma função recursiva que recebe um inteiro n e verifica se n é um\n# valor primo, ou seja, se é divisível apenas por si mesmo e por 1.\n\n\n# Função para verificar se o número é primo ou nao \ndef verifica_primos(n, divisor=None):\n    if n < 2: # Não tem número primo menor que 2\n        return False\n    if n == 2: # O número 2 é o único número positivo\n        return True\n    if  n % divisor == 0: # Caso o resto da divisão de n pelo divisor seja 0... False\n        return False\n    if divisor * divisor > n: # Se o divisor vezes o divisor é maior que n... True\n        return True\n    \n    # Retorno\n    return n + verifica_primos(n, divisor + 1)\n\n\n# Entrada/Saída\nnumero = int(input(\"Digite um número: \"))\nif verifica_primos(numero):\n    print(f\"{numero} é um número primo.\")\nelse:\n    print(f\"{numero} não é um número primo.\")",
      "metadata": {},
      "outputs": [],
      "execution_count": null
    },
    {
      "id": "2a0ae81c",
      "cell_type": "markdown",
      "source": "\n\n---\n\n\n#### **Q5**. \nImplemente uma função recursiva que recebe um número inteiro decimal e retorna sua representação binária como uma string. Para realizar essa conversão, utilize o método de divisão sucessiva, onde você divide o número decimal por 2 e coleta os restos até que o quociente seja zero. A ordem dos restos coletados, de baixo para cima, forma o número binário correspondente.\n\n**Exemplo de Conversão:**\n\nPara converter o número decimal 13 para binário:\n```\n13 ÷ 2 = 6, resto 1\n6 ÷ 2 = 3, resto 0\n3 ÷ 2 = 1, resto 1\n1 ÷ 2 = 0, resto 1\n```\nLendo os restos de baixo para cima, obtemos o número binário `1101`.",
      "metadata": {}
    },
    {
      "id": "a7d954f0",
      "cell_type": "code",
      "source": "# retorna sua representação binária como uma string. Para realizar essa\n# conversão, utilize o método de divisão sucessiva, onde você divide o número\n# decimal por 2 e coleta os restos até que o quociente seja zero. A ordem dos\n# restos coletados, de baixo para cima, forma o número binário\n# correspondente.\n\n# Exemplo de Conversão:\n# Para converter o número decimal 13 para binário:\n# 13 ÷ 2 = 6, resto 1\n# 6 ÷ 2 = 3, resto 0\n# 3 ÷ 2 = 1, resto 1\n# 1 ÷ 2 = 0, resto 1\n# Lendo os restos de baixo para cima, obtemos o número binário 1101.\n\n# Função binarios\ndef binarios(inteiro):    \n\n    if inteiro == 0:\n        return ''\n    resto = inteiro % 2 # Armazenando o resto\n\n    print(f\"{inteiro} ÷ 2 = {resto}\") # Imprime com formatação\n    return binarios(inteiro // 2) + str(resto)\n        \n# Entrada\nnumero = int(input(\"Informe um número: \"))\nif numero == 0:\n    print(\"0\")\nelse:\n    print(f\"O número {numero} em binário é: {binarios(numero)}\")",
      "metadata": {},
      "outputs": [],
      "execution_count": null
    },
    {
      "id": "0f500709",
      "cell_type": "markdown",
      "source": "\n\n---\n\n\n#### **Extra**: \n\nImplemente uma função recursiva em Python que realiza a travessia em pré-ordem de uma árvore binária representada por listas aninhadas. Na travessia em pré-ordem (ou pré-fixada), o nó raiz é visitado primeiro, seguido pela subárvore esquerda e, por fim, pela subárvore direita. A questão fixa as constantes `RAIZ_IDX, ESQ_IDX, DIR_IDX` representando os índices da lista onde se encontra o valor raíz, o nó a esquerda e o nó a direita.\n\n```\n# Representação visual da árvore\n       4\n      / \\\n     2   5\n    / \\\n   1   3\n```",
      "metadata": {}
    },
    {
      "id": "10df4831",
      "cell_type": "code",
      "source": "# RAIZ_IDX, ESQ_IDX, DIR_IDX = 0, 1, 2\n\n# arvore = [\n#     4,              # raíz, nível 0\n#     [               # ramo da esquerda, nível 1\n#         2,          # valor filho esquerda\n#         [1, None, None],   # ramo da esquerda, nível 2\n#         [3, None, None]    # ramo da direita, nível 2\n#     ],\n#     [               # ramo da direita, nível 1\n#         5,          # valor filho da direita\n#         None,              # ramo da esquerda, nível 2\n#         None               # ramo da direita, nível 2\n#     ]\n# ]\n\n# 6) Extra: Implemente uma função recursiva em Python que realiza a travessia\n# em pré-ordem de uma árvore binária representada por listas aninhadas. Na\n# travessia em pré-ordem (ou pré-fixada), o nó raiz é visitado primeiro, seguido\n# pela subárvore esquerda e, por fim, pela subárvore direita. A questão fixa as\n# constantes RAIZ_IDX, ESQ_IDX, DIR_IDX representando os índices da lista\n# onde se encontra o valor raíz, o nó a esquerda e o nó a direita.\n# Representação visual da árvore\n# 4\n# / \\\n# 2 5\n# / \\\n# 1 3\n\n# Definindo as constantes para os índices\nRAIZ_IDX = 0\nESQ_IDX = 1\nDIR_IDX = 2\n\n# Função recursiva \ndef pre_ordem(arvore):\n    if arvore is not None:\n        \n        print(arvore[RAIZ_IDX], end=' ') # Imprime a raiz (pré-ordem: primeiro visita o nó raiz)\n        \n        if arvore[ESQ_IDX] is not None: # Visita a subárvore esquerda\n            pre_ordem(arvore[ESQ_IDX])\n        \n        \n        if arvore[DIR_IDX] is not None: # Visita a subárvore direita\n            pre_ordem(arvore[DIR_IDX])\n\n# Árvore binária representada por listas aninhadas\narvore = [\n    4,              \n    [               \n        2,          \n        [1, None, None],  \n        [3, None, None]   \n    ],\n    [               \n        5,          \n        None,       \n        None        \n    ]\n]\n\n# Testando a função\nprint(\"Travessia em pré-ordem:\")\npre_ordem(arvore)",
      "metadata": {},
      "outputs": [],
      "execution_count": null
    }
  ]
}